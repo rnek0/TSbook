{
 "cells": [
  {
   "attachments": {},
   "cell_type": "markdown",
   "metadata": {},
   "source": [
    "# Variables JavaScript\n",
    "\n",
    "Chaque valeur en JavaScript a un ensemble de comportements que vous pouvez observer en exécutant différentes opérations. Ici nous pouvons executer la fonction .toLowerCase sur la const message mais elle doit bien-sûr être déclarée avant."
   ]
  },
  {
   "cell_type": "code",
   "execution_count": 3,
   "metadata": {},
   "outputs": [
    {
     "name": "stderr",
     "output_type": "stream",
     "text": [
      "3:1 - Cannot find name 'message'.\n",
      "5:1 - Cannot find name 'message'.\n",
      "6:1 - Cannot find name 'message'.\n"
     ]
    }
   ],
   "source": [
    "// Accessing the property 'toLowerCase'\n",
    "// on 'message' and then calling it\n",
    "message.toLowerCase();\n",
    "// Calling 'message'\n",
    "message();\n",
    "message('Hello World !')\n"
   ]
  },
  {
   "cell_type": "code",
   "execution_count": 7,
   "metadata": {},
   "outputs": [
    {
     "name": "stdout",
     "output_type": "stream",
     "text": [
      "hello world!\n"
     ]
    }
   ],
   "source": [
    "const message = \"Hello World!\";\n",
    "\n",
    "message.toLowerCase();"
   ]
  },
  {
   "cell_type": "code",
   "execution_count": null,
   "metadata": {},
   "outputs": [],
   "source": []
  }
 ],
 "metadata": {
  "kernelspec": {
   "display_name": "TypeScript",
   "language": "typescript",
   "name": "tslab"
  },
  "language_info": {
   "codemirror_mode": {
    "mode": "typescript",
    "name": "javascript",
    "typescript": true
   },
   "file_extension": ".ts",
   "mimetype": "text/typescript",
   "name": "typescript",
   "version": "3.7.2"
  },
  "orig_nbformat": 4
 },
 "nbformat": 4,
 "nbformat_minor": 2
}
